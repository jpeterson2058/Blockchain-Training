# Imports

import os
from dotenv import load_dotenv
load_dotenv()
from mnemonic import Mnemonic
from bip44 import Wallet
from web3 import Account
from web3.auto import w3
from eth_account.messages import encode_defunct
Call os.getenv("MNEMONIC") and save value as a variable named mnemonic.

In [2]:
# Use previously established mnemonic
mnemonic = 'elbow scale copper retreat surface jungle ocean bright square trap wage punch'

# Now we will confirm the mnemonic's availability
type(mnemonic)
Out[2]:
str
From the bip44 package, I will generate a Wallet instance and pass the mnemonic variable as a parameter

In [3]:
# Instantiate an new instance of wallet and pass to my mnemonic variable
wallet = Wallet(mnemonic)


# Review of the wallet instance
wallet
Out[3]:
Derive public and private keys from the wallet instance and save the values as two variables named public and private

In [4]:
# Calling the derive_account method on the wallet instance
private, public = wallet.derive_account('eth')

# Review the byte string of the private key
private
Out[4]:
b'\xb0\xe8\x90v\x91\xcc\xbb\xbd\xb4\xd9%wH\x8a\xeb\xb6\x99\xfb\xa2\x1a\xbbv\x80Cs\xb2)\xe5\xd8\xd9\xb3\xe7'
Using the Account object and privatyeKeyToAccount function, I will use my private key to generate an Ethereum account. We will print the address to confirm

In [5]:
# Build the Ethereum account by calling the Account.privateKeyToAccount and passing to private key variable
account = Account.privateKeyToAccount(private)

# Printing the account's address
account
Out[5]:
Create a new string variable named msg and set its value equal to the message I woul like to sign

In [6]:
# Create a string message
msg = "Rollo owes William $100"
Encoding the message using the encode_defunct(text=msg) from Web3.py to encode my message and save the output as a variable named encoded_msg.

In [7]:
# Next we will encode our message from text format into a byte format.

message = encode_defunct(text=msg)
Call the w3.eth.account.sign_message method to pass my encoded message variable and private key. The private key will "sign" my new message. Save the returned signed message as a variable named signed_message

In [8]:
# Next we will use the w3.eth.account.sign_message to sign the message to make it legit
signed_message = w3.eth.account.sign_message(message, private_key=private)
signed_message
Out[8]:
SignedMessage(messageHash=HexBytes('0x99da6da72447cf6e4e2d8ddfbd1a82457b584a9a507fbae974224e8ea85c4104'), r=46179275551383848529172213639480647748845273192290953692694751245883116945279, s=44943390202801640355685456852612466241580251862361697753709219274890365328817, v=28, signature=HexBytes('0x66188b31184646ce9eadd27a9973f622e8385d793ccefdf70f4ba8d13cc0ff7f635d0eb1bad1f863cb10927591b6128306d809c75b1941f982f1a51c49f75db11c'))
Call the w3.eth.account.recover_messaged method. I will pass my encoded message variabel and the message's signature from the signed_message.signature. I will then confirm that the returned value matches the account address that was printed in step 5.

In [9]:
# Finally, we will validate the transaction's signature against my public key
w3.eth.account.recover_message(message, signature=signed_message.signature)
Out[9]:
'0x9C6a38d5ab0b6BE3018187d659DdC04798147E42'
